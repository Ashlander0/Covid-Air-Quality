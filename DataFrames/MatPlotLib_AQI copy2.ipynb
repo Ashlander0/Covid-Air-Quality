{
 "cells": [
  {
   "cell_type": "code",
   "execution_count": 40,
   "metadata": {},
   "outputs": [
    {
     "output_type": "execute_result",
     "data": {
      "text/plain": [
       "      Date Source_x  Site ID_x  POC_x  Daily Mean PM2.5 Concentration  \\\n",
       "0  3/18/15      AQS  270530962      3                             9.4   \n",
       "1  3/19/15      AQS  270530962      3                             9.9   \n",
       "2  3/20/15      AQS  270530962      3                            12.3   \n",
       "3  3/21/15      AQS  270530962      3                             5.3   \n",
       "4  3/22/15      AQS  270530962      3                             7.2   \n",
       "\n",
       "    UNITS_x  DAILY_AQI_VALUE_x          Site Name_x  DAILY_OBS_COUNT_x  \\\n",
       "0  ug/m3 LC                 39  Near Road I-35/I-94                  1   \n",
       "1  ug/m3 LC                 41  Near Road I-35/I-94                  1   \n",
       "2  ug/m3 LC                 51  Near Road I-35/I-94                  1   \n",
       "3  ug/m3 LC                 22  Near Road I-35/I-94                  1   \n",
       "4  ug/m3 LC                 30  Near Road I-35/I-94                  1   \n",
       "\n",
       "   PERCENT_COMPLETE_x  ...  STATE_CODE_y    STATE_y  COUNTY_CODE_y  COUNTY_y  \\\n",
       "0                 100  ...          27.0  Minnesota           53.0  Hennepin   \n",
       "1                 100  ...          27.0  Minnesota           53.0  Hennepin   \n",
       "2                 100  ...          27.0  Minnesota           53.0  Hennepin   \n",
       "3                 100  ...          27.0  Minnesota           53.0  Hennepin   \n",
       "4                 100  ...          27.0  Minnesota           53.0  Hennepin   \n",
       "\n",
       "   SITE_LATITUDE_y SITE_LONGITUDE_y  day_y month_y  year_y      unix_y  \n",
       "0        44.965242       -93.254759     18       3    2015  1426636800  \n",
       "1        44.965242       -93.254759     19       3    2015  1426723200  \n",
       "2        44.965242       -93.254759     20       3    2015  1426809600  \n",
       "3        44.965242       -93.254759     21       3    2015  1426896000  \n",
       "4        44.965242       -93.254759     22       3    2015  1426982400  \n",
       "\n",
       "[5 rows x 47 columns]"
      ],
      "text/html": "<div>\n<style scoped>\n    .dataframe tbody tr th:only-of-type {\n        vertical-align: middle;\n    }\n\n    .dataframe tbody tr th {\n        vertical-align: top;\n    }\n\n    .dataframe thead th {\n        text-align: right;\n    }\n</style>\n<table border=\"1\" class=\"dataframe\">\n  <thead>\n    <tr style=\"text-align: right;\">\n      <th></th>\n      <th>Date</th>\n      <th>Source_x</th>\n      <th>Site ID_x</th>\n      <th>POC_x</th>\n      <th>Daily Mean PM2.5 Concentration</th>\n      <th>UNITS_x</th>\n      <th>DAILY_AQI_VALUE_x</th>\n      <th>Site Name_x</th>\n      <th>DAILY_OBS_COUNT_x</th>\n      <th>PERCENT_COMPLETE_x</th>\n      <th>...</th>\n      <th>STATE_CODE_y</th>\n      <th>STATE_y</th>\n      <th>COUNTY_CODE_y</th>\n      <th>COUNTY_y</th>\n      <th>SITE_LATITUDE_y</th>\n      <th>SITE_LONGITUDE_y</th>\n      <th>day_y</th>\n      <th>month_y</th>\n      <th>year_y</th>\n      <th>unix_y</th>\n    </tr>\n  </thead>\n  <tbody>\n    <tr>\n      <th>0</th>\n      <td>3/18/15</td>\n      <td>AQS</td>\n      <td>270530962</td>\n      <td>3</td>\n      <td>9.4</td>\n      <td>ug/m3 LC</td>\n      <td>39</td>\n      <td>Near Road I-35/I-94</td>\n      <td>1</td>\n      <td>100</td>\n      <td>...</td>\n      <td>27.0</td>\n      <td>Minnesota</td>\n      <td>53.0</td>\n      <td>Hennepin</td>\n      <td>44.965242</td>\n      <td>-93.254759</td>\n      <td>18</td>\n      <td>3</td>\n      <td>2015</td>\n      <td>1426636800</td>\n    </tr>\n    <tr>\n      <th>1</th>\n      <td>3/19/15</td>\n      <td>AQS</td>\n      <td>270530962</td>\n      <td>3</td>\n      <td>9.9</td>\n      <td>ug/m3 LC</td>\n      <td>41</td>\n      <td>Near Road I-35/I-94</td>\n      <td>1</td>\n      <td>100</td>\n      <td>...</td>\n      <td>27.0</td>\n      <td>Minnesota</td>\n      <td>53.0</td>\n      <td>Hennepin</td>\n      <td>44.965242</td>\n      <td>-93.254759</td>\n      <td>19</td>\n      <td>3</td>\n      <td>2015</td>\n      <td>1426723200</td>\n    </tr>\n    <tr>\n      <th>2</th>\n      <td>3/20/15</td>\n      <td>AQS</td>\n      <td>270530962</td>\n      <td>3</td>\n      <td>12.3</td>\n      <td>ug/m3 LC</td>\n      <td>51</td>\n      <td>Near Road I-35/I-94</td>\n      <td>1</td>\n      <td>100</td>\n      <td>...</td>\n      <td>27.0</td>\n      <td>Minnesota</td>\n      <td>53.0</td>\n      <td>Hennepin</td>\n      <td>44.965242</td>\n      <td>-93.254759</td>\n      <td>20</td>\n      <td>3</td>\n      <td>2015</td>\n      <td>1426809600</td>\n    </tr>\n    <tr>\n      <th>3</th>\n      <td>3/21/15</td>\n      <td>AQS</td>\n      <td>270530962</td>\n      <td>3</td>\n      <td>5.3</td>\n      <td>ug/m3 LC</td>\n      <td>22</td>\n      <td>Near Road I-35/I-94</td>\n      <td>1</td>\n      <td>100</td>\n      <td>...</td>\n      <td>27.0</td>\n      <td>Minnesota</td>\n      <td>53.0</td>\n      <td>Hennepin</td>\n      <td>44.965242</td>\n      <td>-93.254759</td>\n      <td>21</td>\n      <td>3</td>\n      <td>2015</td>\n      <td>1426896000</td>\n    </tr>\n    <tr>\n      <th>4</th>\n      <td>3/22/15</td>\n      <td>AQS</td>\n      <td>270530962</td>\n      <td>3</td>\n      <td>7.2</td>\n      <td>ug/m3 LC</td>\n      <td>30</td>\n      <td>Near Road I-35/I-94</td>\n      <td>1</td>\n      <td>100</td>\n      <td>...</td>\n      <td>27.0</td>\n      <td>Minnesota</td>\n      <td>53.0</td>\n      <td>Hennepin</td>\n      <td>44.965242</td>\n      <td>-93.254759</td>\n      <td>22</td>\n      <td>3</td>\n      <td>2015</td>\n      <td>1426982400</td>\n    </tr>\n  </tbody>\n</table>\n<p>5 rows × 47 columns</p>\n</div>"
     },
     "metadata": {},
     "execution_count": 40
    }
   ],
   "source": [
    "# Dependencies and Setup\n",
    "import pandas as pd\n",
    "import matplotlib.pyplot as plt\n",
    "import numpy as np\n",
    "import seaborn as sns\n",
    "from sklearn.linear_model import LinearRegression\n",
    "from scipy import stats\n",
    "\n",
    "import matplotlib as mpl\n",
    "import glob\n",
    "import datetime as dt\n",
    "from datetime import datetime\n",
    "import matplotlib.dates \n",
    "import matplotlib.dates as mdates\n",
    "\n",
    "# Study data files\n",
    "pm25_data_path = \"../Resources/aqi.csv\"\n",
    "ozone_data_path = \"../Resources/ozone.csv\"\n",
    "#Traffic_Data = \"data/MNDOT.csv\"\n",
    "\n",
    "# Read the PM2.5 data and the Ozone Data\n",
    "pm25_data = pd.read_csv(pm25_data_path)\n",
    "ozone_data = pd.read_csv(ozone_data_path)\n",
    "\n",
    "#Combine all AQI files\n",
    "Combined_AQI_csv=pd.merge(pm25_data,ozone_data,on=\"Date\",how=\"inner\")\n",
    "#Export to CSV\n",
    "Combined_AQI_csv.to_csv( \"../Resources/Combined_AQI_csv.csv\", index=False)\n",
    "Combined_AQI_csv.head()"
   ]
  },
  {
   "cell_type": "code",
   "execution_count": 41,
   "metadata": {},
   "outputs": [
    {
     "output_type": "stream",
     "name": "stdout",
     "text": [
      "<class 'pandas.core.frame.DataFrame'>\nInt64Index: 1499 entries, 0 to 1498\nData columns (total 47 columns):\n #   Column                                Non-Null Count  Dtype  \n---  ------                                --------------  -----  \n 0   Date                                  1499 non-null   object \n 1   Source_x                              1499 non-null   object \n 2   Site ID_x                             1499 non-null   int64  \n 3   POC_x                                 1499 non-null   int64  \n 4   Daily Mean PM2.5 Concentration        1499 non-null   float64\n 5   UNITS_x                               1499 non-null   object \n 6   DAILY_AQI_VALUE_x                     1499 non-null   int64  \n 7   Site Name_x                           1499 non-null   object \n 8   DAILY_OBS_COUNT_x                     1499 non-null   int64  \n 9   PERCENT_COMPLETE_x                    1499 non-null   int64  \n 10  AQS_PARAMETER_CODE_x                  1499 non-null   int64  \n 11  AQS_PARAMETER_DESC_x                  1499 non-null   object \n 12  CBSA_CODE_x                           1499 non-null   int64  \n 13  CBSA_NAME_x                           1499 non-null   object \n 14  STATE_CODE_x                          1499 non-null   int64  \n 15  STATE_x                               1499 non-null   object \n 16  COUNTY_CODE_x                         1499 non-null   int64  \n 17  COUNTY_x                              1499 non-null   object \n 18  SITE_LATITUDE_x                       1499 non-null   float64\n 19  SITE_LONGITUDE_x                      1499 non-null   float64\n 20  day_x                                 1499 non-null   int64  \n 21  month_x                               1499 non-null   int64  \n 22  year_x                                1499 non-null   int64  \n 23  unix_x                                1499 non-null   int64  \n 24  Source_y                              1499 non-null   object \n 25  Site ID_y                             1499 non-null   float64\n 26  POC_y                                 1499 non-null   float64\n 27  Daily Max 8-hour Ozone Concentration  1499 non-null   float64\n 28  UNITS_y                               1499 non-null   object \n 29  DAILY_AQI_VALUE_y                     1499 non-null   float64\n 30  Site Name_y                           1499 non-null   object \n 31  DAILY_OBS_COUNT_y                     1499 non-null   float64\n 32  PERCENT_COMPLETE_y                    1499 non-null   float64\n 33  AQS_PARAMETER_CODE_y                  1499 non-null   float64\n 34  AQS_PARAMETER_DESC_y                  1499 non-null   object \n 35  CBSA_CODE_y                           1499 non-null   float64\n 36  CBSA_NAME_y                           1499 non-null   object \n 37  STATE_CODE_y                          1499 non-null   float64\n 38  STATE_y                               1499 non-null   object \n 39  COUNTY_CODE_y                         1499 non-null   float64\n 40  COUNTY_y                              1499 non-null   object \n 41  SITE_LATITUDE_y                       1499 non-null   float64\n 42  SITE_LONGITUDE_y                      1499 non-null   float64\n 43  day_y                                 1499 non-null   int64  \n 44  month_y                               1499 non-null   int64  \n 45  year_y                                1499 non-null   int64  \n 46  unix_y                                1499 non-null   int64  \ndtypes: float64(15), int64(17), object(15)\nmemory usage: 562.1+ KB\n"
     ]
    }
   ],
   "source": [
    "#shape of dataframe\n",
    "Combined_AQI_csv.shape\n",
    "#data type of each column\n",
    "Combined_AQI_csv.dtypes\n",
    "#number of null values\n",
    "Combined_AQI_csv.info()"
   ]
  },
  {
   "cell_type": "code",
   "execution_count": 48,
   "metadata": {},
   "outputs": [
    {
     "output_type": "error",
     "ename": "SyntaxError",
     "evalue": "invalid syntax (<ipython-input-48-ba80321db95b>, line 3)",
     "traceback": [
      "\u001b[0;36m  File \u001b[0;32m\"<ipython-input-48-ba80321db95b>\"\u001b[0;36m, line \u001b[0;32m3\u001b[0m\n\u001b[0;31m    df.Daily Mean PM2.5 Concentration.plot(kind='scatter', color='purple', edgecolor='black', figsize=(20,6))\u001b[0m\n\u001b[0m             ^\u001b[0m\n\u001b[0;31mSyntaxError\u001b[0m\u001b[0;31m:\u001b[0m invalid syntax\n"
     ]
    }
   ],
   "source": [
    "plt.style.use('ggplot')\n",
    "# Scatter of the Daily Mean PM2.5 Concentration\n",
    "df.Daily Mean PM2.5 Concentration.plot(kind='scatter', color='purple', edgecolor='black', figsize=(20,6))\n",
    "plt.title('Distribution of PM2.5', size=24)\n",
    "plt.xlabel('[] (ug/m3 LC)', size=18)\n",
    "plt.ylabel('time', size=18)\n",
    "plt.show()\n"
   ]
  },
  {
   "cell_type": "code",
   "execution_count": null,
   "metadata": {},
   "outputs": [],
   "source": []
  }
 ],
 "metadata": {
  "kernelspec": {
   "display_name": "Python 3",
   "language": "python",
   "name": "python3"
  },
  "language_info": {
   "codemirror_mode": {
    "name": "ipython",
    "version": 3
   },
   "file_extension": ".py",
   "mimetype": "text/x-python",
   "name": "python",
   "nbconvert_exporter": "python",
   "pygments_lexer": "ipython3",
   "version": "3.8.3-final"
  }
 },
 "nbformat": 4,
 "nbformat_minor": 4
}