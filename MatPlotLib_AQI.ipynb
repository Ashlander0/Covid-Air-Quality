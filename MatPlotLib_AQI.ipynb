{
 "cells": [
  {
   "cell_type": "code",
   "execution_count": null,
   "metadata": {},
   "outputs": [],
   "source": [
    "# Dependencies and Setup\n",
    "import matplotlib.pyplot as plt\n",
    "import pandas as pd\n",
    "import glob\n",
    "import scipy.stats as st\n",
    "\n",
    "# Study data files\n",
    "pm25_data_path = \"Resources/aqi.csv\"\n",
    "ozone_data_path = \"Resources/ozone.csv\"\n",
    "#Traffic_Data = \"data/MNDOT.csv\"\n",
    "\n",
    "# Read the PM2.5 data and the Ozone Data\n",
    "pm25_data = pd.read_csv(pm25_data_path)\n",
    "ozone_data = pd.read_csv(ozone_data_path)\n",
    "\n",
    "#Combine all AQI files\n",
    "Combined_AQI_csv=pd.merge(pm25_data,ozone_data,on=\"Date\",how=\"left\")\n",
    "#Export to CSV\n",
    "Combined_AQI_csv.to_csv( \"Combined_AQI_csv.csv\", index=False)"
   ]
  }
 ],
 "metadata": {
  "kernelspec": {
   "display_name": "Python 3",
   "language": "python",
   "name": "python3"
  },
  "language_info": {
   "codemirror_mode": {
    "name": "ipython",
    "version": 3
   },
   "file_extension": ".py",
   "mimetype": "text/x-python",
   "name": "python",
   "nbconvert_exporter": "python",
   "pygments_lexer": "ipython3",
   "version": "3.8.3"
  }
 },
 "nbformat": 4,
 "nbformat_minor": 4
}
