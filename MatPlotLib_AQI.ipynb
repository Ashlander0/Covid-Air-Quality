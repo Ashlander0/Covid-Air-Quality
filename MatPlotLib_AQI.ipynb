{
 "cells": [
  {
   "cell_type": "code",
   "execution_count": null,
   "metadata": {},
   "outputs": [],
   "source": [
    "# Dependencies and Setup\n",
    "import matplotlib.pyplot as plt\n",
    "import pandas as pd\n",
    "import glob\n",
    "import scipy.stats as st\n",
    "\n",
    "# Study data files\n",
    "PM25_Data = \"data/PM25_metadata.csv\"\n",
    "Ozone_Data = \"data/Ozone_metadata.csv\"\n",
    "#Traffic_Data = \"data/MNDOT.csv\"\n",
    "\n",
    "#Combine all AQI files\n",
    "Combined_AQI_csv = pd.concat([pd.read_csv(f) for f in \"PM25_Data\", \"Ozone_Data\" ])\n",
    "#Export to CSV\n",
    "Combined_AQI_csv.to_csv( \"Combined_AQI_csv.csv\", index=False)"
   ]
  }
 ],
 "metadata": {
  "kernelspec": {
   "display_name": "Python 3",
   "language": "python",
   "name": "python3"
  },
  "language_info": {
   "codemirror_mode": {
    "name": "ipython",
    "version": 3
   },
   "file_extension": ".py",
   "mimetype": "text/x-python",
   "name": "python",
   "nbconvert_exporter": "python",
   "pygments_lexer": "ipython3",
   "version": "3.8.3"
  }
 },
 "nbformat": 4,
 "nbformat_minor": 4
}
